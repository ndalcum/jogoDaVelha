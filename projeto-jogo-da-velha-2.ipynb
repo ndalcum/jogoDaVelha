{
 "cells": [
  {
   "cell_type": "code",
   "execution_count": 2,
   "id": "a3375749",
   "metadata": {},
   "outputs": [],
   "source": [
    "def imprime_jogo(jogo):\n",
    "    print(f\"\"\"\n",
    "    {jogo[0]} | {jogo[1]} | {jogo[2]}\n",
    "    {jogo[3]} | {jogo[4]} | {jogo[5]}\n",
    "    {jogo[6]} | {jogo[7]} | {jogo[8]}\n",
    "    \"\"\")\n",
    "\n",
    "def jogada(jogador, jogo, jogadas):\n",
    "    \n",
    "    \"\"\"Jogador insere o número da posição (escolha) onde quer jogar\"\"\"\n",
    "    escolha = int(input(f'Jogador {jogador} | Digite o número da posição que deseja jogar:')) \n",
    "    \n",
    "    \n",
    "    \"\"\"Jogador repete a entrada enquanto a escolha for inválida\"\"\"\n",
    "    while escolha not in jogo: \n",
    "        escolha = int(input('Digite um número disponível no espaço de jogo:'))\n",
    "    \n",
    "    else:\n",
    "        \"\"\"O símbolo do jogador é inserido na posição escolhida e armazenado na lista de jogadas\"\"\"\n",
    "        if jogador == 1: \n",
    "            jogo[jogo.index(escolha)] = 'X'\n",
    "            jogadas['Jogador1'].append(escolha) # VERIFICAR - Não é o index - bate com condição de ganho\n",
    "        elif jogador == 2:\n",
    "            jogo[jogo.index(escolha)] = 'O'\n",
    "            jogadas['Jogador2'].append(escolha) # VERIFICAR - Não é o index - bate com condição de ganho\n",
    "            \n",
    "    \"\"\"A jogada se encerra com o tabuleiro atualizado - tentar imprimir só as strings\"\"\"\n",
    "    imprime_jogo(jogo)\n",
    "    print(jogadas['Jogador1'], jogadas['Jogador2'])\n",
    "\n",
    "def verifica_fim(jogador, jogadas): # VERIFICAR entradas\n",
    "    \n",
    "    if jogador == 1:\n",
    "        chave = 'Jogador1'\n",
    "    elif jogador == 2:\n",
    "        chave = 'Jogador2'\n",
    "    \n",
    "    # Oito condições de ganho: [1, 2, 3], [4, 5, 6], [7, 8, 9], [1, 4, 7], [2, 5, 8], [3, 6, 9], [1, 5, 9], [3, 5, 7]\n",
    "    \n",
    "    if 1 and 2 and 3 in jogadas[chave]:\n",
    "        return True\n",
    "    elif 4 and 5 and 6 in jogadas[chave]:\n",
    "        return True\n",
    "    elif 7 and 8 and 9 in jogadas[chave]:\n",
    "        return True\n",
    "    elif 1 and 4 and 7 in jogadas[chave]:\n",
    "        return True\n",
    "    elif 2 and 5 and 8 in jogadas[chave]:\n",
    "        return True\n",
    "    elif 3 and 6 and 9 in jogadas[chave]:\n",
    "        return True\n",
    "    elif 1 and 5 and 9 in jogadas[chave]:\n",
    "        return True\n",
    "    elif 3 and 5 and 7 in jogadas[chave]:\n",
    "        return True\n",
    "    else:\n",
    "        return False"
   ]
  },
  {
   "cell_type": "code",
   "execution_count": null,
   "id": "e10b2de6",
   "metadata": {},
   "outputs": [],
   "source": [
    "jogo = [1, 2, 3, 4, 5, 6, 7, 8, 9]\n",
    "jogadas = {'Jogador1': [], 'Jogador2': []}\n",
    "\n",
    "imprime_jogo(jogo)\n",
    "\n",
    "turno = 0\n",
    "\n",
    "while turno < 9:\n",
    "    if turno % 2 == 0:\n",
    "        jogada(1, jogo, jogadas)\n",
    "        print(verifica_fim(1, jogadas))\n",
    "    else:\n",
    "        jogada(2, jogo, jogadas)\n",
    "        print(verifica_fim(2, jogadas))\n",
    "    \n",
    "    turno += 1"
   ]
  },
  {
   "cell_type": "code",
   "execution_count": 46,
   "id": "b68239f5",
   "metadata": {},
   "outputs": [
    {
     "data": {
      "text/plain": [
       "True"
      ]
     },
     "execution_count": 46,
     "metadata": {},
     "output_type": "execute_result"
    }
   ],
   "source": [
    "     "
   ]
  }
 ],
 "metadata": {
  "kernelspec": {
   "display_name": "Python 3 (ipykernel)",
   "language": "python",
   "name": "python3"
  },
  "language_info": {
   "codemirror_mode": {
    "name": "ipython",
    "version": 3
   },
   "file_extension": ".py",
   "mimetype": "text/x-python",
   "name": "python",
   "nbconvert_exporter": "python",
   "pygments_lexer": "ipython3",
   "version": "3.9.2"
  }
 },
 "nbformat": 4,
 "nbformat_minor": 5
}
